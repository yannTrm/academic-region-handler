{
 "cells": [
  {
   "cell_type": "markdown",
   "metadata": {},
   "source": [
    "# Exploration des données de départements"
   ]
  },
  {
   "cell_type": "code",
   "execution_count": 3,
   "metadata": {},
   "outputs": [],
   "source": [
    "import pandas as pd\n",
    "import numpy as np"
   ]
  },
  {
   "cell_type": "code",
   "execution_count": 49,
   "metadata": {},
   "outputs": [
    {
     "data": {
      "text/html": [
       "<div>\n",
       "<style scoped>\n",
       "    .dataframe tbody tr th:only-of-type {\n",
       "        vertical-align: middle;\n",
       "    }\n",
       "\n",
       "    .dataframe tbody tr th {\n",
       "        vertical-align: top;\n",
       "    }\n",
       "\n",
       "    .dataframe thead th {\n",
       "        text-align: right;\n",
       "    }\n",
       "</style>\n",
       "<table border=\"1\" class=\"dataframe\">\n",
       "  <thead>\n",
       "    <tr style=\"text-align: right;\">\n",
       "      <th></th>\n",
       "      <th>code_departement</th>\n",
       "      <th>nom_departement</th>\n",
       "      <th>code_region</th>\n",
       "      <th>nom_region</th>\n",
       "    </tr>\n",
       "  </thead>\n",
       "  <tbody>\n",
       "    <tr>\n",
       "      <th>80</th>\n",
       "      <td>80</td>\n",
       "      <td>Somme</td>\n",
       "      <td>32</td>\n",
       "      <td>Hauts-de-France</td>\n",
       "    </tr>\n",
       "  </tbody>\n",
       "</table>\n",
       "</div>"
      ],
      "text/plain": [
       "   code_departement nom_departement  code_region       nom_region\n",
       "80               80           Somme           32  Hauts-de-France"
      ]
     },
     "execution_count": 49,
     "metadata": {},
     "output_type": "execute_result"
    }
   ],
   "source": [
    "departements = pd.read_csv(\"./data/departements-france.csv\")\n",
    "departements.head(5)\n",
    "departements[departements['code_departement'] == \"80\"]"
   ]
  },
  {
   "cell_type": "code",
   "execution_count": 50,
   "metadata": {},
   "outputs": [
    {
     "data": {
      "text/plain": [
       "code_departement    object\n",
       "nom_departement     object\n",
       "code_region          int64\n",
       "nom_region          object\n",
       "dtype: object"
      ]
     },
     "execution_count": 50,
     "metadata": {},
     "output_type": "execute_result"
    }
   ],
   "source": [
    "departements.dtypes"
   ]
  },
  {
   "cell_type": "code",
   "execution_count": 41,
   "metadata": {},
   "outputs": [],
   "source": [
    "def get_code_department_from_zip(zip_code:str or int) -> str:\n",
    "    \"\"\"\n",
    "    Returns the department code corresponding to a given zip code.\n",
    "\n",
    "    Parameters:\n",
    "    zip_code : int or str\n",
    "        The zip code for which the department code is requested.\n",
    "        Can be either an integer or a string.\n",
    "\n",
    "    Returns:\n",
    "    str\n",
    "        The department code corresponding to the given zip code, as a string.\n",
    "        If no corresponding department code is found, it returns an empty string (\"\").\n",
    "\n",
    "    Remarks:\n",
    "    - Make sure the zip code is in a valid format.\n",
    "    - The department code is usually the first two digits of the zip code in France.\n",
    "    - This function supports zip codes as integers or strings.\n",
    "    \"\"\"\n",
    "    if isinstance(zip_code, int):\n",
    "        zip_code = str(zip_code)\n",
    "    if not zip_code.isdigit() or len(zip_code) != 5:\n",
    "        return \"\"\n",
    "    return zip_code[:2]"
   ]
  },
  {
   "cell_type": "code",
   "execution_count": 43,
   "metadata": {},
   "outputs": [],
   "source": [
    "def get_region_code_from_postal_zip(zip_code: str or int, data=departements) -> str or None:\n",
    "    \"\"\"\n",
    "    Returns the region code corresponding to a given postal zip code.\n",
    "\n",
    "    Parameters:\n",
    "    zip_code : int or str\n",
    "        The postal zip code for which the region code is requested.\n",
    "        Can be either an integer or a string.\n",
    "\n",
    "    data : DataFrame, optional\n",
    "        The DataFrame containing information about departments and regions.\n",
    "        By default, it uses the DataFrame named 'departements'.\n",
    "\n",
    "    Returns:\n",
    "    str or None\n",
    "        The region code corresponding to the given postal zip code, as a string.\n",
    "        If no corresponding region code is found, it returns None.\n",
    "\n",
    "    Remarks:\n",
    "    - This function internally uses the 'get_code_department_from_zip' function.\n",
    "    \"\"\"\n",
    "    code_department = get_code_department_from_zip(zip_code)\n",
    "    row = data[data['code_departement'] == str(code_department)]['code_region']\n",
    "    return row.iloc[0] if not row.empty else None"
   ]
  },
  {
   "cell_type": "code",
   "execution_count": null,
   "metadata": {},
   "outputs": [],
   "source": [
    "def get_region_from_postal_zip(zip_code: str or int, data=departements) -> str or None:\n",
    "    \"\"\"\n",
    "    Returns the region code corresponding to a given postal zip code.\n",
    "\n",
    "    Parameters:\n",
    "    zip_code : int or str\n",
    "        The postal zip code for which the region code is requested.\n",
    "        Can be either an integer or a string.\n",
    "\n",
    "    data : DataFrame, optional\n",
    "        The DataFrame containing information about departments and regions.\n",
    "        By default, it uses the DataFrame named 'departements'.\n",
    "\n",
    "    Returns:\n",
    "    str or None\n",
    "        The region code corresponding to the given postal zip code, as a string.\n",
    "        If no corresponding region code is found, it returns None.\n",
    "\n",
    "    Remarks:\n",
    "    - This function internally uses the 'get_code_department_from_zip' function.\n",
    "    \"\"\"\n",
    "    code_department = get_code_department_from_zip(zip_code)\n",
    "    row = data[data['code_departement'] == str(code_department)]['code_region']\n",
    "    return row.iloc[0] if not row.empty else None"
   ]
  },
  {
   "cell_type": "code",
   "execution_count": 45,
   "metadata": {},
   "outputs": [
    {
     "name": "stdout",
     "output_type": "stream",
     "text": [
      "32\n"
     ]
    }
   ],
   "source": [
    "zip = 80480\n",
    "departement = get_code_department_from_zip(zip)\n",
    "\n",
    "print(get_region_code_from_postal_zip(zip))"
   ]
  },
  {
   "cell_type": "code",
   "execution_count": null,
   "metadata": {},
   "outputs": [],
   "source": []
  },
  {
   "cell_type": "code",
   "execution_count": null,
   "metadata": {},
   "outputs": [],
   "source": []
  }
 ],
 "metadata": {
  "kernelspec": {
   "display_name": "Python 3",
   "language": "python",
   "name": "python3"
  },
  "language_info": {
   "codemirror_mode": {
    "name": "ipython",
    "version": 3
   },
   "file_extension": ".py",
   "mimetype": "text/x-python",
   "name": "python",
   "nbconvert_exporter": "python",
   "pygments_lexer": "ipython3",
   "version": "3.10.11"
  },
  "orig_nbformat": 4
 },
 "nbformat": 4,
 "nbformat_minor": 2
}
